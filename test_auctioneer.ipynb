{
 "metadata": {
  "name": "test_auctioneer"
 },
 "nbformat": 3,
 "nbformat_minor": 0,
 "worksheets": [
  {
   "cells": [
    {
     "cell_type": "code",
     "collapsed": false,
     "input": [
      "import auctioneer as AUC"
     ],
     "language": "python",
     "metadata": {},
     "outputs": [],
     "prompt_number": 1
    },
    {
     "cell_type": "code",
     "collapsed": false,
     "input": [
      "bob = AUC.Agent('Bob',  [(0, 5), (1, 10), (4, 20), (5, 30), (6, 15), (7, 15), (9, 5) ])\n",
      "joe = AUC.Agent('Joe',  [(0, 10), (2, 10), (3, 20), (4, 10), (6, 20), (7, 20), (8, 10)])\n",
      "sue = AUC.Agent('Sue',  [(0, 10), (1, 15), (2, 20), (3, 15), (4, 15), (5, 15), (6, 10)])\n",
      "tim = AUC.Agent('Tim',  zip(range(7), [5, 15, 15, 20, 25, 10, 10]))"
     ],
     "language": "python",
     "metadata": {},
     "outputs": [],
     "prompt_number": 7
    },
    {
     "cell_type": "code",
     "collapsed": false,
     "input": [
      "auction = AUC.Auction(0, [joe, bob, sue, tim])"
     ],
     "language": "python",
     "metadata": {},
     "outputs": [],
     "prompt_number": 8
    },
    {
     "cell_type": "code",
     "collapsed": false,
     "input": [
      "auction.bid_table"
     ],
     "language": "python",
     "metadata": {},
     "outputs": [
      {
       "output_type": "pyout",
       "prompt_number": 9,
       "text": [
        "{0: {'Bob': 5, 'Joe': 10, 'Sue': 10, 'Tim': 5},\n",
        " 1: {'Bob': 10, 'Sue': 15, 'Tim': 15},\n",
        " 2: {'Joe': 10, 'Sue': 20, 'Tim': 15},\n",
        " 3: {'Joe': 20, 'Sue': 15, 'Tim': 20},\n",
        " 4: {'Bob': 20, 'Joe': 10, 'Sue': 15, 'Tim': 25},\n",
        " 5: {'Bob': 30, 'Sue': 15, 'Tim': 10},\n",
        " 6: {'Bob': 15, 'Joe': 20, 'Sue': 10, 'Tim': 10},\n",
        " 7: {'Bob': 15, 'Joe': 20},\n",
        " 8: {'Joe': 10},\n",
        " 9: {'Bob': 5}}"
       ]
      }
     ],
     "prompt_number": 9
    },
    {
     "cell_type": "code",
     "collapsed": false,
     "input": [],
     "language": "python",
     "metadata": {},
     "outputs": [],
     "prompt_number": 24
    },
    {
     "cell_type": "code",
     "collapsed": false,
     "input": [
      "resolution = auction.multi_resolve()\n",
      "comparison = [(i, v[1]) for i, v in zip(['Best Bid', 'LMBB', 'MF', 'Hybrid'], resolution)]\n",
      "print '\\t'.join(['Selector', 'loss: u, var', 'full: u, var'])\n",
      "for e in comparison:\n",
      "    print '\\t'.join(map(str, e))"
     ],
     "language": "python",
     "metadata": {},
     "outputs": [
      {
       "output_type": "stream",
       "stream": "stdout",
       "text": [
        "Selector\tloss: u, var\tfull: u, var\n",
        "Best Bid\t((56.25, 3258.49609375), (43.75, 2086.62109375))\n",
        "LMBB\t((56.25, 2995.99609375), (43.75, 1824.12109375))\n",
        "MF\t((65.0, 5385.9375), (35.0, 2573.4375))\n",
        "Hybrid\t((60.0, 3512.5), (40.0, 1637.5))\n"
       ]
      }
     ],
     "prompt_number": 10
    },
    {
     "cell_type": "code",
     "collapsed": false,
     "input": [
      "# Note LMBB is the same as the Hybrid (which is mostly lmbb). this difference will be increased as the allure of the auction increases.\n",
      "AUC.unique_groups(i[0] for i in resolution)\n"
     ],
     "language": "python",
     "metadata": {},
     "outputs": [
      {
       "output_type": "pyout",
       "prompt_number": 6,
       "text": [
        "[{0: 'Sue',\n",
        "  1: 'Sue',\n",
        "  2: 'Sue',\n",
        "  3: 'Tim',\n",
        "  4: 'Tim',\n",
        "  5: 'Bob',\n",
        "  6: 'Joe',\n",
        "  7: 'Joe',\n",
        "  8: 'Joe',\n",
        "  9: 'Bob'},\n",
        " {0: 'Joe',\n",
        "  1: 'Sue',\n",
        "  2: 'Sue',\n",
        "  3: 'Tim',\n",
        "  4: 'Tim',\n",
        "  5: 'Bob',\n",
        "  6: 'Joe',\n",
        "  7: 'Joe',\n",
        "  8: 'Joe',\n",
        "  9: 'Bob'},\n",
        " {0: 'Sue',\n",
        "  1: 'Sue',\n",
        "  2: 'Sue',\n",
        "  3: 'Tim',\n",
        "  4: 'Joe',\n",
        "  5: 'Bob',\n",
        "  6: 'Joe',\n",
        "  7: 'Joe',\n",
        "  8: 'Joe',\n",
        "  9: 'Bob'},\n",
        " {0: 'Bob',\n",
        "  1: 'Bob',\n",
        "  2: 'Joe',\n",
        "  3: 'Joe',\n",
        "  4: 'Joe',\n",
        "  5: 'Bob',\n",
        "  6: 'Joe',\n",
        "  7: 'Joe',\n",
        "  8: 'Joe',\n",
        "  9: 'Bob'}]"
       ]
      }
     ],
     "prompt_number": 6
    },
    {
     "cell_type": "code",
     "collapsed": false,
     "input": [
      "auction.resolve(auction.hybrid_selector)"
     ],
     "language": "python",
     "metadata": {},
     "outputs": [
      {
       "output_type": "pyout",
       "prompt_number": 28,
       "text": [
        "[(4, 'Joe'),\n",
        " (5, 'Bob'),\n",
        " (3, 'Joe'),\n",
        " (7, 'Joe'),\n",
        " (6, 'Joe'),\n",
        " (2, 'Sue'),\n",
        " (0, 'Sue'),\n",
        " (1, 'Sue')]"
       ]
      }
     ],
     "prompt_number": 28
    },
    {
     "cell_type": "code",
     "collapsed": false,
     "input": [
      "auction.is_imba()"
     ],
     "language": "python",
     "metadata": {},
     "outputs": [
      {
       "output_type": "pyout",
       "prompt_number": 29,
       "text": [
        "False"
       ]
      }
     ],
     "prompt_number": 29
    },
    {
     "cell_type": "code",
     "collapsed": false,
     "input": [],
     "language": "python",
     "metadata": {},
     "outputs": []
    }
   ],
   "metadata": {}
  }
 ]
}