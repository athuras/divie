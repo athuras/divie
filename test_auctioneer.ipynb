{
 "metadata": {
  "name": "test_auctioneer"
 },
 "nbformat": 3,
 "nbformat_minor": 0,
 "worksheets": [
  {
   "cells": [
    {
     "cell_type": "code",
     "collapsed": false,
     "input": [
      "import auctioneer as AUC"
     ],
     "language": "python",
     "metadata": {},
     "outputs": [],
     "prompt_number": 1
    },
    {
     "cell_type": "code",
     "collapsed": false,
     "input": [
      "bob = AUC.Agent('Bob',  [(0, 10), (1, 15), (4, 45), (5, 50)])\n",
      "joe = AUC.Agent(\"Joe\",  [(0, 15), (2, 20), (3, 20), (4, 45)])\n",
      "sue = AUC.Agent('Sue',  [(0, 15), (1, 10), (2, 20), (3, 20), (4, 20), (5, 15)])"
     ],
     "language": "python",
     "metadata": {},
     "outputs": [],
     "prompt_number": 2
    },
    {
     "cell_type": "code",
     "collapsed": false,
     "input": [
      "auction = AUC.Auction(0, [joe, bob, sue])"
     ],
     "language": "python",
     "metadata": {},
     "outputs": [],
     "prompt_number": 3
    },
    {
     "cell_type": "code",
     "collapsed": false,
     "input": [
      "auction.bid_table"
     ],
     "language": "python",
     "metadata": {},
     "outputs": [
      {
       "output_type": "pyout",
       "prompt_number": 4,
       "text": [
        "{0: {'Bob': 10, 'Joe': 15, 'Sue': 15},\n",
        " 1: {'Bob': 15, 'Sue': 10},\n",
        " 2: {'Joe': 20, 'Sue': 20},\n",
        " 3: {'Joe': 20, 'Sue': 20},\n",
        " 4: {'Bob': 45, 'Joe': 45, 'Sue': 20},\n",
        " 5: {'Bob': 50, 'Sue': 15}}"
       ]
      }
     ],
     "prompt_number": 4
    },
    {
     "cell_type": "code",
     "collapsed": false,
     "input": [],
     "language": "python",
     "metadata": {},
     "outputs": [],
     "prompt_number": 4
    },
    {
     "cell_type": "code",
     "collapsed": false,
     "input": [
      "resolution = auction.multi_resolve()\n",
      "comparison = [(i, v[1]) for i, v in zip(['Best Bid', 'LMBB', 'MF', 'Hybrid'], resolution)]\n",
      "for e in comparison:\n",
      "    print '\\t'.join(map(str, e))"
     ],
     "language": "python",
     "metadata": {},
     "outputs": [
      {
       "output_type": "stream",
       "stream": "stdout",
       "text": [
        "Best Bid\t((51.666666666666664, 3345.0617283950614), (55.0, 4305.555555555556))\n",
        "LMBB\t((53.333333333333336, 2933.9506172839506), (53.333333333333336, 3400.617283950617))\n",
        "MF\t((53.333333333333336, 4217.283950617284), (53.333333333333336, 5017.283950617284))\n",
        "Hybrid\t((53.333333333333336, 2933.9506172839506), (53.333333333333336, 3400.617283950617))\n"
       ]
      }
     ],
     "prompt_number": 18
    },
    {
     "cell_type": "code",
     "collapsed": false,
     "input": [
      "# Note LMBB is the same as the Hybrid (which is mostly lmbb). this difference will be increased as the allure of the auction increases.\n",
      "AUC.unique_groups(i[0] for i in resolution)\n"
     ],
     "language": "python",
     "metadata": {},
     "outputs": [
      {
       "output_type": "pyout",
       "prompt_number": 6,
       "text": [
        "[{0: 'Joe', 1: 'Bob', 2: 'Sue', 3: 'Sue', 4: 'Bob', 5: 'Bob'},\n",
        " {0: 'Joe', 1: 'Sue', 2: 'Joe', 3: 'Sue', 4: 'Bob', 5: 'Bob'},\n",
        " {0: 'Bob', 1: 'Bob', 2: 'Sue', 3: 'Sue', 4: 'Bob', 5: 'Bob'}]"
       ]
      }
     ],
     "prompt_number": 6
    },
    {
     "cell_type": "code",
     "collapsed": false,
     "input": [
      "auction.resolve(auction.hybrid_selector)"
     ],
     "language": "python",
     "metadata": {},
     "outputs": [
      {
       "output_type": "pyout",
       "prompt_number": 8,
       "text": [
        "[(4, 'Bob'), (0, 'Joe'), (5, 'Bob'), (3, 'Sue'), (2, 'Joe'), (1, 'Sue')]"
       ]
      }
     ],
     "prompt_number": 8
    },
    {
     "cell_type": "code",
     "collapsed": false,
     "input": [
      "auction.is_imba()"
     ],
     "language": "python",
     "metadata": {},
     "outputs": [
      {
       "output_type": "pyout",
       "prompt_number": 10,
       "text": [
        "False"
       ]
      }
     ],
     "prompt_number": 10
    },
    {
     "cell_type": "code",
     "collapsed": false,
     "input": [],
     "language": "python",
     "metadata": {},
     "outputs": []
    }
   ],
   "metadata": {}
  }
 ]
}