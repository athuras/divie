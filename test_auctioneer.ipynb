{
 "metadata": {
  "name": "test_auctioneer"
 },
 "nbformat": 3,
 "nbformat_minor": 0,
 "worksheets": [
  {
   "cells": [
    {
     "cell_type": "code",
     "collapsed": false,
     "input": [
      "import auctioneer as AUC\n",
      "def normalize(bids, value=100):\n",
      "    z = float(sum(i[1] for i in bids))\n",
      "    return map(lambda x: (x[0], x[1] / z * value), bids)"
     ],
     "language": "python",
     "metadata": {},
     "outputs": [],
     "prompt_number": 1
    },
    {
     "cell_type": "code",
     "collapsed": false,
     "input": [
      "bob = AUC.Agent('Bob', normalize(zip(range(10), [10] * 10)))\n",
      "joe = AUC.Agent('Joe', normalize([(0, 10), (2, 10), (3, 20), (4, 10), (6, 20), (7, 20), (8, 10)]))\n",
      "sue = AUC.Agent('Sue', normalize([(0, 10), (1, 15), (2, 20), (3, 15), (4, 15), (5, 15), (6, 10)]))\n",
      "tim = AUC.Agent('Tim', normalize(zip(range(7), [5, 15, 15, 20, 25, 10, 10])))\n",
      "amy = AUC.Agent('Amy', normalize(zip(range(12), [0, 0, 0, 0, 0, 30, 30, 30, 30, 30, 30, 30])))\n",
      "tom = AUC.Agent('Tom', normalize(zip(range(5), [1, 2, 3, 4, 5])))"
     ],
     "language": "python",
     "metadata": {},
     "outputs": [],
     "prompt_number": 2
    },
    {
     "cell_type": "code",
     "collapsed": false,
     "input": [
      "auction = AUC.Auction(0, [joe, bob, sue, tim, amy, tom])"
     ],
     "language": "python",
     "metadata": {},
     "outputs": [],
     "prompt_number": 3
    },
    {
     "cell_type": "code",
     "collapsed": false,
     "input": [
      "auction.bid_table"
     ],
     "language": "python",
     "metadata": {},
     "outputs": [
      {
       "output_type": "pyout",
       "prompt_number": 4,
       "text": [
        "{0: {'Bob': 10.0,\n",
        "  'Joe': 10.0,\n",
        "  'Sue': 10.0,\n",
        "  'Tim': 5.0,\n",
        "  'Tom': 6.666666666666667},\n",
        " 1: {'Bob': 10.0, 'Sue': 15.0, 'Tim': 15.0, 'Tom': 13.333333333333334},\n",
        " 2: {'Bob': 10.0, 'Joe': 10.0, 'Sue': 20.0, 'Tim': 15.0, 'Tom': 20.0},\n",
        " 3: {'Bob': 10.0,\n",
        "  'Joe': 20.0,\n",
        "  'Sue': 15.0,\n",
        "  'Tim': 20.0,\n",
        "  'Tom': 26.666666666666668},\n",
        " 4: {'Bob': 10.0,\n",
        "  'Joe': 10.0,\n",
        "  'Sue': 15.0,\n",
        "  'Tim': 25.0,\n",
        "  'Tom': 33.33333333333333},\n",
        " 5: {'Amy': 14.285714285714285, 'Bob': 10.0, 'Sue': 15.0, 'Tim': 10.0},\n",
        " 6: {'Amy': 14.285714285714285,\n",
        "  'Bob': 10.0,\n",
        "  'Joe': 20.0,\n",
        "  'Sue': 10.0,\n",
        "  'Tim': 10.0},\n",
        " 7: {'Amy': 14.285714285714285, 'Bob': 10.0, 'Joe': 20.0},\n",
        " 8: {'Amy': 14.285714285714285, 'Bob': 10.0, 'Joe': 10.0},\n",
        " 9: {'Amy': 14.285714285714285, 'Bob': 10.0},\n",
        " 10: {'Amy': 14.285714285714285},\n",
        " 11: {'Amy': 14.285714285714285}}"
       ]
      }
     ],
     "prompt_number": 4
    },
    {
     "cell_type": "code",
     "collapsed": false,
     "input": [],
     "language": "python",
     "metadata": {},
     "outputs": [],
     "prompt_number": 4
    },
    {
     "cell_type": "code",
     "collapsed": false,
     "input": [
      "resolution = auction.multi_resolve()\n",
      "comparison = [(i, v[1]) for i, v in zip(['Best Bid', 'LMBB', 'MF', 'Hybrid'], resolution)]\n",
      "print '\\t'.join(['Selector', 'loss: u, var', 'full: u, var', 'imbalanced?'])\n",
      "for e in comparison:\n",
      "    print '\\t'.join(map(str, e))"
     ],
     "language": "python",
     "metadata": {},
     "outputs": [
      {
       "output_type": "stream",
       "stream": "stdout",
       "text": [
        "Selector\tloss: u, var\tfull: u, var\n",
        "Best Bid\t((63.80952380952382, 4318.020912068531), (36.19047619047619, 1632.8357268833458))\n",
        "LMBB\t((64.52380952380952, 4270.23652053414), (35.476190476190474, 1446.1624464600657))\n",
        "MF\t((71.42857142857143, 6660.9977324263045), (28.57142857142857, 2494.331065759637))\n",
        "Hybrid\t((67.02380952380952, 4473.601269211388), (32.976190476190474, 1163.416084026203))\n"
       ]
      }
     ],
     "prompt_number": 5
    },
    {
     "cell_type": "code",
     "collapsed": false,
     "input": [
      "# Note LMBB is the same as the Hybrid (which is mostly lmbb). this difference will be increased as the allure of the auction increases.\n",
      "AUC.unique_groups(i[0] for i in resolution)\n"
     ],
     "language": "python",
     "metadata": {},
     "outputs": [
      {
       "output_type": "pyout",
       "prompt_number": 6,
       "text": [
        "[{0: 'Sue',\n",
        "  1: 'Sue',\n",
        "  2: 'Sue',\n",
        "  3: 'Tim',\n",
        "  4: 'Tim',\n",
        "  5: 'Bob',\n",
        "  6: 'Joe',\n",
        "  7: 'Joe',\n",
        "  8: 'Joe',\n",
        "  9: 'Bob'},\n",
        " {0: 'Joe',\n",
        "  1: 'Sue',\n",
        "  2: 'Sue',\n",
        "  3: 'Tim',\n",
        "  4: 'Tim',\n",
        "  5: 'Bob',\n",
        "  6: 'Joe',\n",
        "  7: 'Joe',\n",
        "  8: 'Joe',\n",
        "  9: 'Bob'},\n",
        " {0: 'Sue',\n",
        "  1: 'Sue',\n",
        "  2: 'Sue',\n",
        "  3: 'Tim',\n",
        "  4: 'Joe',\n",
        "  5: 'Bob',\n",
        "  6: 'Joe',\n",
        "  7: 'Joe',\n",
        "  8: 'Joe',\n",
        "  9: 'Bob'},\n",
        " {0: 'Bob',\n",
        "  1: 'Bob',\n",
        "  2: 'Joe',\n",
        "  3: 'Joe',\n",
        "  4: 'Joe',\n",
        "  5: 'Bob',\n",
        "  6: 'Joe',\n",
        "  7: 'Joe',\n",
        "  8: 'Joe',\n",
        "  9: 'Bob'}]"
       ]
      }
     ],
     "prompt_number": 6
    },
    {
     "cell_type": "code",
     "collapsed": false,
     "input": [
      "auction.resolve(auction.hybrid_selector)"
     ],
     "language": "python",
     "metadata": {},
     "outputs": [
      {
       "output_type": "pyout",
       "prompt_number": 28,
       "text": [
        "[(4, 'Joe'),\n",
        " (5, 'Bob'),\n",
        " (3, 'Joe'),\n",
        " (7, 'Joe'),\n",
        " (6, 'Joe'),\n",
        " (2, 'Sue'),\n",
        " (0, 'Sue'),\n",
        " (1, 'Sue')]"
       ]
      }
     ],
     "prompt_number": 28
    },
    {
     "cell_type": "code",
     "collapsed": false,
     "input": [
      "auction.is_imba()"
     ],
     "language": "python",
     "metadata": {},
     "outputs": [
      {
       "output_type": "pyout",
       "prompt_number": 29,
       "text": [
        "False"
       ]
      }
     ],
     "prompt_number": 29
    },
    {
     "cell_type": "code",
     "collapsed": false,
     "input": [],
     "language": "python",
     "metadata": {},
     "outputs": []
    }
   ],
   "metadata": {}
  }
 ]
}